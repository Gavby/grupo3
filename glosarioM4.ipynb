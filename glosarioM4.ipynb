{
  "nbformat": 4,
  "nbformat_minor": 0,
  "metadata": {
    "colab": {
      "name": "glosarioM4.ipynb",
      "provenance": [],
      "authorship_tag": "ABX9TyMAknut32OSWhvTDr8Xguzw",
      "include_colab_link": true
    },
    "kernelspec": {
      "name": "python3",
      "display_name": "Python 3"
    },
    "language_info": {
      "name": "python"
    }
  },
  "cells": [
    {
      "cell_type": "markdown",
      "metadata": {
        "id": "view-in-github",
        "colab_type": "text"
      },
      "source": [
        "<a href=\"https://colab.research.google.com/github/Gavby/grupo3/blob/main/glosarioM4.ipynb\" target=\"_parent\"><img src=\"https://colab.research.google.com/assets/colab-badge.svg\" alt=\"Open In Colab\"/></a>"
      ]
    },
    {
      "cell_type": "markdown",
      "source": [
        "**PONTIFICIA UIVERSIDAD CATOLICA DEL ECUADOR**\n",
        "\n",
        "**MAESTRIA EN BIOLOGIA COMPUTACIONAL**\n",
        "\n",
        "**ALGORITMOS BIOLOGIA**\n",
        "\n",
        "**GRUPO 3**\n",
        "\n",
        "**2022**\n",
        "\n",
        "En este programa vamos a crear un programa que muestre un glosario de 5 terminos relacionados a la biología computacional."
      ],
      "metadata": {
        "id": "atfJr29WcJUO"
      }
    },
    {
      "cell_type": "markdown",
      "source": [
        "Tema del programa"
      ],
      "metadata": {
        "id": "q3p2xh23jzJT"
      }
    },
    {
      "cell_type": "code",
      "source": [
        "print(\"Glosario de terminos \\n\")"
      ],
      "metadata": {
        "id": "hdVFLmDdcKTI"
      },
      "execution_count": null,
      "outputs": []
    },
    {
      "cell_type": "markdown",
      "source": [
        "Imprimimos los 5 terminos para el glosario"
      ],
      "metadata": {
        "id": "MjSewQQFj9ab"
      }
    },
    {
      "cell_type": "code",
      "source": [
        "print(\"Mutación sinónima: Cambio de nucleótido que da como resultado el mismo aminoácido\")"
      ],
      "metadata": {
        "id": "ysrVafWshIxy"
      },
      "execution_count": null,
      "outputs": []
    },
    {
      "cell_type": "code",
      "source": [
        "print(\"Mutación no sinónima: Cambio de nucleótido que da como resultado un aminoácido diferente\")"
      ],
      "metadata": {
        "id": "tB4L6ET5iJZ6"
      },
      "execution_count": null,
      "outputs": []
    },
    {
      "cell_type": "code",
      "source": [
        "print(\"Logo de secuencias: Representación gráfica de sitios conservados de varias secuencias alineadas.\")"
      ],
      "metadata": {
        "id": "OKa6_n4EiJz5"
      },
      "execution_count": null,
      "outputs": []
    },
    {
      "cell_type": "code",
      "source": [
        "print(\"Matrices de peso: Matriz de valores que nos muestran que tan conservado esta un nucleótido o aminoácido en cada posición del alineamiento\")"
      ],
      "metadata": {
        "id": "LBtbXqdAiKur"
      },
      "execution_count": null,
      "outputs": []
    },
    {
      "cell_type": "code",
      "source": [
        "print(\"Bits (logos de secuencias): Tamaño de la imagen que representa la cantidad de información que hay en cada posición del alineamiento\")"
      ],
      "metadata": {
        "id": "sPKeewJsiLIH"
      },
      "execution_count": null,
      "outputs": []
    },
    {
      "cell_type": "markdown",
      "source": [
        "Fin del programa"
      ],
      "metadata": {
        "id": "OSVH63TqcMWN"
      }
    }
  ]
}